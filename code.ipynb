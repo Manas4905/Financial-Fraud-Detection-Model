{
 "cells": [
  {
   "cell_type": "code",
   "execution_count": null,
   "id": "de47fd87",
   "metadata": {},
   "outputs": [],
   "source": [
    "import numpy as np\n",
    "import matplotlib.pyplot as plt\n",
    "import pandas as pd\n",
    "import seaborn as sns"
   ]
  },
  {
   "cell_type": "code",
   "execution_count": null,
   "id": "00b1ae32",
   "metadata": {},
   "outputs": [],
   "source": [
    "df = pd.read_csv('Fraud.csv')\n"
   ]
  },
  {
   "cell_type": "code",
   "execution_count": null,
   "id": "9892b23f",
   "metadata": {},
   "outputs": [],
   "source": [
    "df.head()"
   ]
  },
  {
   "cell_type": "code",
   "execution_count": null,
   "id": "feaaad3d",
   "metadata": {},
   "outputs": [],
   "source": [
    "df.isnull().sum()"
   ]
  },
  {
   "cell_type": "code",
   "execution_count": null,
   "id": "e621064c",
   "metadata": {},
   "outputs": [],
   "source": [
    "df.describe()\n"
   ]
  },
  {
   "cell_type": "code",
   "execution_count": null,
   "id": "0c188dc3",
   "metadata": {},
   "outputs": [],
   "source": [
    "#idetify outliers\n",
    "plt.figure(figsize=(10, 6))\n",
    "sns.boxplot(data=df, orient='h')\n",
    "plt.title('Boxplot of Features')\n",
    "plt.show()"
   ]
  },
  {
   "cell_type": "code",
   "execution_count": null,
   "id": "963d89cc",
   "metadata": {},
   "outputs": [],
   "source": [
    "#visualize outliers\n",
    "plt.figure(figsize=(12, 8)) \n",
    "sns.scatterplot(x='amount', y='oldbalanceOrg', hue='isFraud', data=df, alpha=0.5)\n",
    "plt.title('Scatter Plot of Amount vs Old Balance (Origin) with Fraud Labels')\n",
    "plt.xlabel('Amount')\n",
    "plt.ylabel('Old Balance (Origin)')\n",
    "plt.legend(title='isFraud', loc='upper right')\n",
    "plt.show()"
   ]
  },
  {
   "cell_type": "code",
   "execution_count": null,
   "id": "a3c84629",
   "metadata": {},
   "outputs": [],
   "source": [
    "#visualize outliers with histogram of all numeric features\n",
    "numeric_features = df.select_dtypes(include=[np.number]).columns.tolist()\n",
    "plt.figure(figsize=(15, 10))\n",
    "for i, feature in enumerate(numeric_features):\n",
    "    plt.subplot(3, 3, i + 1)\n",
    "    sns.histplot(df[feature], bins=30, kde=True)\n",
    "    plt.title(f'Histogram of {feature}')\n",
    "plt.tight_layout()\n",
    "plt.show()"
   ]
  },
  {
   "cell_type": "code",
   "execution_count": null,
   "id": "5612caf7",
   "metadata": {},
   "outputs": [],
   "source": [
    "df['ratio_amount_to_oldbalance'] = df['amount'] / (df['oldbalanceOrg'] + 1e-6)"
   ]
  },
  {
   "cell_type": "code",
   "execution_count": null,
   "id": "21beb2e4",
   "metadata": {},
   "outputs": [],
   "source": [
    "#visualize new feature , separated by isFraud\n",
    "plt.figure(figsize=(12, 8))\n",
    "sns.boxplot(x='isFraud', y='ratio_amount_to_oldbalance', data=df)\n",
    "plt.title('Ratio of Amount to Old Balance by Fraud Status')\n",
    "plt.xlabel('isFraud')\n",
    "plt.ylabel('Ratio of Amount to Old Balance')\n",
    "plt.show()\n",
    "#histogram of new feature\n",
    "plt.figure(figsize=(10, 6))\n",
    "sns.histplot(df['ratio_amount_to_oldbalance'], bins=30, kde=True)\n",
    "plt.title('Histogram of Ratio of Amount to Old Balance')\n",
    "plt.xlabel('Ratio of Amount to Old Balance')\n",
    "plt.ylabel('Frequency')\n",
    "plt.show()\n"
   ]
  },
  {
   "cell_type": "code",
   "execution_count": null,
   "id": "0bc89aa4",
   "metadata": {},
   "outputs": [],
   "source": [
    "#we will have five new columns: type_CASH-IN, type_CASH-OUT, type_DEBIT, type_PAYMENT, and type_TRANSFER.\n",
    "df = pd.get_dummies(df, columns=['type'], prefix='type', drop_first=True)\n",
    "\n"
   ]
  },
  {
   "cell_type": "code",
   "execution_count": null,
   "id": "f7f080af",
   "metadata": {},
   "outputs": [],
   "source": [
    "#balance_change_orig = newbalanceOrig - oldbalanceOrg\n",
    "df['balance_change_orig'] = df['newbalanceOrig'] - df['oldbalanceOrg']\n",
    "#balance_change_dest = newbalanceDest - oldbalanceDest\n",
    "df['balance_change_dest'] = df['newbalanceDest'] - df['oldbalanceDest']"
   ]
  },
  {
   "cell_type": "code",
   "execution_count": null,
   "id": "b013f7b0",
   "metadata": {},
   "outputs": [],
   "source": [
    "#handling step feature into two new features: day_of week and hour_of_day\n",
    "df['hour_of_day'] = df['step'] % 24\n",
    "df['day_of_week'] = (df['step'] // 24) % 7\n"
   ]
  },
  {
   "cell_type": "code",
   "execution_count": null,
   "id": "eac3097f",
   "metadata": {},
   "outputs": [],
   "source": [
    "#encodding day_of_week and hour_of_day\n",
    "# Apply sine and cosine transformations for 'hour_of_day'\n",
    "df['sin_hour'] = np.sin(2 * np.pi * df['hour_of_day'] / 24)\n",
    "df['cos_hour'] = np.cos(2 * np.pi * df['hour_of_day'] / 24)\n",
    "# Step 4: Apply sine and cosine transformations for 'day_of_week'\n",
    "df['sin_day'] = np.sin(2 * np.pi * df['day_of_week'] / 7)\n",
    "df['cos_day'] = np.cos(2 * np.pi * df['day_of_week'] / 7)"
   ]
  },
  {
   "cell_type": "code",
   "execution_count": null,
   "id": "65bf16dd",
   "metadata": {},
   "outputs": [],
   "source": [
    "#The data dictionary notes that there is no balance information for customers who are merchants (nameDest starts with 'M').\n",
    "#is_merchant_dest, which indicates whether the transaction's recipient is a merchant.\n",
    "df['is_merchant_dest'] = df['nameDest'].str.startswith('M').astype(int)\n"
   ]
  },
  {
   "cell_type": "code",
   "execution_count": null,
   "id": "01fa32e4",
   "metadata": {},
   "outputs": [],
   "source": [
    "#Drop oldbalanceOrg and newbalanceOrig, as you have the balance_change_orig feature.\n",
    "df.drop(columns=['oldbalanceOrg', 'newbalanceOrig'], inplace=True)\n",
    "\n",
    "#Drop nameDest, as you have the is_merchant_dest feature which captures the key information from that column.\n",
    "df.drop(columns=['nameDest'], inplace=True)\n",
    "\n",
    "#rop the original step column and its intermediary features, keeping only the sine and cosine transformations.\n",
    "df.drop(columns=['step', 'hour_of_day', 'day_of_week'], inplace=True)"
   ]
  },
  {
   "cell_type": "code",
   "execution_count": null,
   "id": "e147af2d",
   "metadata": {},
   "outputs": [],
   "source": [
    "#Log Transformation of Skewed Features\n",
    "skewed_features = ['amount', 'ratio_amount_to_oldbalance']\n",
    "for feature in skewed_features:\n",
    "    df[feature] = np.log1p(df[feature])  \n",
    "    \n"
   ]
  },
  {
   "cell_type": "code",
   "execution_count": null,
   "id": "3ddbafc9",
   "metadata": {},
   "outputs": [],
   "source": [
    "# Calculate the skewness for the balance_change features\n",
    "skewness_orig = df['balance_change_orig'].skew()\n",
    "skewness_dest = df['balance_change_dest'].skew()\n",
    "\n",
    "print(f\"Skewness of balance_change_orig: {skewness_orig}\")\n",
    "print(f\"Skewness of balance_change_dest: {skewness_dest}\")"
   ]
  },
  {
   "cell_type": "code",
   "execution_count": null,
   "id": "212c2309",
   "metadata": {},
   "outputs": [],
   "source": [
    "df['balance_change_dest_log'] = np.log1p(df['balance_change_dest'])\n",
    "\n",
    "from scipy.stats import boxcox, yeojohnson\n",
    "\n",
    "# Applying Yeo-Johnson transformation to balance_change_orig\n",
    "df['balance_change_orig_yeo'], _ = yeojohnson(df['balance_change_orig'])"
   ]
  },
  {
   "cell_type": "code",
   "execution_count": null,
   "id": "02e9df4d",
   "metadata": {},
   "outputs": [],
   "source": [
    "#skewness after transformation\n",
    "skewness_orig_yeo = df['balance_change_orig_yeo'].skew()\n",
    "skewness_dest_log = df['balance_change_dest_log'].skew()\n",
    "print(f\"Skewness of balance_change_orig after Yeo-Johnson: {skewness_orig_yeo}\")\n",
    "print(f\"Skewness of balance_change_dest after log transformation: {skewness_dest_log}\")"
   ]
  },
  {
   "cell_type": "code",
   "execution_count": null,
   "id": "517d29bb",
   "metadata": {},
   "outputs": [],
   "source": [
    "print(\"Checking for negative values in 'balance_change_dest' before transformation:\")\n",
    "negative_values = df[df['balance_change_dest'] < 0]['balance_change_dest'].count()\n",
    "print(f\"Number of negative values: {negative_values}\")"
   ]
  },
  {
   "cell_type": "code",
   "execution_count": null,
   "id": "6a4ca665",
   "metadata": {},
   "outputs": [],
   "source": [
    "# Applying Yeo-Johnson transformation to balance_change_dest\n",
    "df['balance_change_dest_yeo'], _ = yeojohnson(df['balance_change_dest'])\n",
    "\n",
    "# Check the skewness of the new transformed feature\n",
    "print(\"Skewness of balance_change_dest after Yeo-Johnson transformation:\")\n",
    "print(df['balance_change_dest_yeo'].skew())"
   ]
  },
  {
   "cell_type": "code",
   "execution_count": null,
   "id": "90317331",
   "metadata": {},
   "outputs": [],
   "source": [
    "df.columns"
   ]
  },
  {
   "cell_type": "code",
   "execution_count": null,
   "id": "bd40a2d3",
   "metadata": {},
   "outputs": [],
   "source": [
    "df.drop(columns=['nameOrig', 'oldbalanceDest', 'newbalanceDest', 'isFlaggedFraud'], inplace=True)"
   ]
  },
  {
   "cell_type": "code",
   "execution_count": null,
   "id": "105823fa",
   "metadata": {},
   "outputs": [],
   "source": [
    "#split the data into features and target variable\n",
    "X = df.drop(columns=['isFraud'])\n",
    "y = df['isFraud']\n"
   ]
  },
  {
   "cell_type": "code",
   "execution_count": null,
   "id": "81dd883f",
   "metadata": {},
   "outputs": [],
   "source": [
    "from sklearn.model_selection import train_test_split\n",
    "\n",
    "X_train, X_test, y_train, y_test = train_test_split(X, y, test_size=0.2, random_state=42, stratify=y)"
   ]
  },
  {
   "cell_type": "code",
   "execution_count": null,
   "id": "6debd44e",
   "metadata": {},
   "outputs": [],
   "source": []
  },
  {
   "cell_type": "code",
   "execution_count": null,
   "id": "af58d3df",
   "metadata": {},
   "outputs": [],
   "source": [
    "\n",
    "from imblearn.over_sampling import SMOTE\n",
    "\n",
    "# Replace inf/-inf with NaN, then impute missing values in X_train before SMOTE\n",
    "X_train_clean = X_train.replace([np.inf, -np.inf], np.nan)\n",
    "X_train_imputed = X_train_clean.fillna(X_train_clean.mean())\n",
    "\n",
    "smote = SMOTE(random_state=42)\n",
    "\n",
    "X_train_resampled, y_train_resampled = smote.fit_resample(X_train_imputed, y_train)\n",
    "\n"
   ]
  },
  {
   "cell_type": "code",
   "execution_count": null,
   "id": "072746d2",
   "metadata": {},
   "outputs": [],
   "source": [
    "\n",
    "from xgboost import XGBClassifier\n",
    "from sklearn.metrics import accuracy_score, precision_score, recall_score, f1_score, confusion_matrix, roc_curve, auc\n",
    "\n"
   ]
  },
  {
   "cell_type": "code",
   "execution_count": null,
   "id": "2535dd73",
   "metadata": {},
   "outputs": [],
   "source": [
    "\n",
    "# Step 1: Model Training\n",
    "# Initialize the XGBoost classifier\n",
    "# The 'use_label_encoder=False' and 'eval_metric=\"logloss\"' are to avoid a future warning\n",
    "xgb_model = XGBClassifier(use_label_encoder=False, eval_metric=\"logloss\", random_state=42)\n",
    "\n",
    "# Fit the model to the oversampled training data\n",
    "print(\"Training the XGBoost model...\")\n",
    "xgb_model.fit(X_train_resampled, y_train_resampled)\n",
    "print(\"Model training complete.\")\n"
   ]
  },
  {
   "cell_type": "code",
   "execution_count": null,
   "id": "d5f3e34a",
   "metadata": {},
   "outputs": [],
   "source": [
    "\n",
    "# Step 2: Model Evaluation on the original test set\n",
    "# Make predictions on the test data\n",
    "y_pred = xgb_model.predict(X_test)\n",
    "y_pred_proba = xgb_model.predict_proba(X_test)[:, 1]\n",
    "\n",
    "# Calculate and print evaluation metrics\n",
    "print(\"\\nModel Performance on Test Data:\")\n",
    "print(\"Accuracy:\", accuracy_score(y_test, y_pred))\n",
    "print(\"Precision:\", precision_score(y_test, y_pred))\n",
    "print(\"Recall:\", recall_score(y_test, y_pred))\n",
    "print(\"F1-Score:\", f1_score(y_test, y_pred))\n"
   ]
  },
  {
   "cell_type": "code",
   "execution_count": null,
   "id": "73d38a62",
   "metadata": {},
   "outputs": [],
   "source": [
    "\n",
    "# Confusion Matrix\n",
    "cm = confusion_matrix(y_test, y_pred)\n",
    "plt.figure(figsize=(8, 6))\n",
    "sns.heatmap(cm, annot=True, fmt=\"d\", cmap=\"Blues\", xticklabels=['Not Fraud', 'Fraud'], yticklabels=['Not Fraud', 'Fraud'])\n",
    "plt.xlabel('Predicted')\n",
    "plt.ylabel('Actual')\n",
    "plt.title('Confusion Matrix')\n",
    "plt.show()\n"
   ]
  },
  {
   "cell_type": "code",
   "execution_count": null,
   "id": "f8532aed",
   "metadata": {},
   "outputs": [],
   "source": [
    "\n",
    "# ROC-AUC Curve\n",
    "fpr, tpr, thresholds = roc_curve(y_test, y_pred_proba)\n",
    "roc_auc = auc(fpr, tpr)\n",
    "plt.figure(figsize=(8, 6))\n",
    "plt.plot(fpr, tpr, color='darkorange', lw=2, label=f'ROC curve (area = {roc_auc:.2f})')\n",
    "plt.plot([0, 1], [0, 1], color='navy', lw=2, linestyle='--')\n",
    "plt.xlim([0.0, 1.0])\n",
    "plt.ylim([0.0, 1.05])\n",
    "plt.xlabel('False Positive Rate')\n",
    "plt.ylabel('True Positive Rate')\n",
    "plt.title('Receiver Operating Characteristic (ROC) Curve')\n",
    "plt.legend(loc=\"lower right\")\n",
    "plt.show()\n"
   ]
  },
  {
   "cell_type": "code",
   "execution_count": null,
   "id": "257bd4f0",
   "metadata": {},
   "outputs": [],
   "source": [
    "\n",
    "# Step 3: Feature Importance\n",
    "# Plot feature importance\n",
    "feature_importance = xgb_model.feature_importances_\n",
    "feature_names = X_train_resampled.columns\n",
    "sorted_idx = feature_importance.argsort()\n",
    "\n",
    "plt.figure(figsize=(10, 8))\n",
    "plt.barh(feature_names[sorted_idx], feature_importance[sorted_idx])\n",
    "plt.xlabel(\"Feature Importance\")\n",
    "plt.title(\"XGBoost Feature Importance\")\n",
    "plt.show()\n",
    "\n",
    "# You can also get a list of the most important features\n",
    "important_features = pd.DataFrame({\n",
    "    'Feature': feature_names,\n",
    "    'Importance': feature_importance\n",
    "}).sort_values(by='Importance', ascending=False)\n",
    "\n",
    "print(\"\\nTop 10 most important features:\")\n",
    "print(important_features.head(10))"
   ]
  }
 ],
 "metadata": {
  "kernelspec": {
   "display_name": "base",
   "language": "python",
   "name": "python3"
  },
  "language_info": {
   "codemirror_mode": {
    "name": "ipython",
    "version": 3
   },
   "file_extension": ".py",
   "mimetype": "text/x-python",
   "name": "python",
   "nbconvert_exporter": "python",
   "pygments_lexer": "ipython3",
   "version": "3.12.3"
  }
 },
 "nbformat": 4,
 "nbformat_minor": 5
}
